{
 "cells": [
  {
   "cell_type": "code",
   "execution_count": null,
   "id": "f532ba89-5031-4180-9dbb-491ae2876c5a",
   "metadata": {},
   "outputs": [],
   "source": [
    "import pandas as pd\n",
    "import matplotlib.pyplot as plt\n",
    "import seaborn as sn"
   ]
  },
  {
   "cell_type": "code",
   "execution_count": null,
   "id": "541c852a-c01e-4031-8452-127b4e7e1e38",
   "metadata": {},
   "outputs": [],
   "source": [
    "df=pd.read_csv(r\"country - country.csv\")"
   ]
  },
  {
   "cell_type": "code",
   "execution_count": 5,
   "id": "bb412f0b-e1e2-4903-92ab-411415552bba",
   "metadata": {},
   "outputs": [
    {
     "data": {
      "text/html": [
       "<div>\n",
       "<style scoped>\n",
       "    .dataframe tbody tr th:only-of-type {\n",
       "        vertical-align: middle;\n",
       "    }\n",
       "\n",
       "    .dataframe tbody tr th {\n",
       "        vertical-align: top;\n",
       "    }\n",
       "\n",
       "    .dataframe thead th {\n",
       "        text-align: right;\n",
       "    }\n",
       "</style>\n",
       "<table border=\"1\" class=\"dataframe\">\n",
       "  <thead>\n",
       "    <tr style=\"text-align: right;\">\n",
       "      <th></th>\n",
       "      <th>Country</th>\n",
       "      <th>Corruption_Index</th>\n",
       "      <th>Gini_Index</th>\n",
       "    </tr>\n",
       "  </thead>\n",
       "  <tbody>\n",
       "    <tr>\n",
       "      <th>0</th>\n",
       "      <td>Hong Kong</td>\n",
       "      <td>77</td>\n",
       "      <td>53.7</td>\n",
       "    </tr>\n",
       "    <tr>\n",
       "      <th>1</th>\n",
       "      <td>South Korea</td>\n",
       "      <td>53</td>\n",
       "      <td>30.2</td>\n",
       "    </tr>\n",
       "    <tr>\n",
       "      <th>2</th>\n",
       "      <td>China</td>\n",
       "      <td>40</td>\n",
       "      <td>46.2</td>\n",
       "    </tr>\n",
       "    <tr>\n",
       "      <th>3</th>\n",
       "      <td>Italy</td>\n",
       "      <td>47</td>\n",
       "      <td>32.7</td>\n",
       "    </tr>\n",
       "    <tr>\n",
       "      <th>4</th>\n",
       "      <td>Mongolia</td>\n",
       "      <td>38</td>\n",
       "      <td>36.5</td>\n",
       "    </tr>\n",
       "    <tr>\n",
       "      <th>5</th>\n",
       "      <td>Austria</td>\n",
       "      <td>75</td>\n",
       "      <td>27.6</td>\n",
       "    </tr>\n",
       "    <tr>\n",
       "      <th>6</th>\n",
       "      <td>Norway</td>\n",
       "      <td>85</td>\n",
       "      <td>23.5</td>\n",
       "    </tr>\n",
       "    <tr>\n",
       "      <th>7</th>\n",
       "      <td>UK</td>\n",
       "      <td>81</td>\n",
       "      <td>31.6</td>\n",
       "    </tr>\n",
       "    <tr>\n",
       "      <th>8</th>\n",
       "      <td>Canada</td>\n",
       "      <td>82</td>\n",
       "      <td>33.7</td>\n",
       "    </tr>\n",
       "    <tr>\n",
       "      <th>9</th>\n",
       "      <td>Germany</td>\n",
       "      <td>81</td>\n",
       "      <td>30.7</td>\n",
       "    </tr>\n",
       "    <tr>\n",
       "      <th>10</th>\n",
       "      <td>Sweden</td>\n",
       "      <td>88</td>\n",
       "      <td>25.4</td>\n",
       "    </tr>\n",
       "    <tr>\n",
       "      <th>11</th>\n",
       "      <td>Denmark</td>\n",
       "      <td>90</td>\n",
       "      <td>27.5</td>\n",
       "    </tr>\n",
       "    <tr>\n",
       "      <th>12</th>\n",
       "      <td>France</td>\n",
       "      <td>69</td>\n",
       "      <td>30.1</td>\n",
       "    </tr>\n",
       "    <tr>\n",
       "      <th>13</th>\n",
       "      <td>United States</td>\n",
       "      <td>74</td>\n",
       "      <td>40.8</td>\n",
       "    </tr>\n",
       "    <tr>\n",
       "      <th>14</th>\n",
       "      <td>Russia</td>\n",
       "      <td>29</td>\n",
       "      <td>40.1</td>\n",
       "    </tr>\n",
       "    <tr>\n",
       "      <th>15</th>\n",
       "      <td>Portugal</td>\n",
       "      <td>62</td>\n",
       "      <td>34.2</td>\n",
       "    </tr>\n",
       "    <tr>\n",
       "      <th>16</th>\n",
       "      <td>Romania</td>\n",
       "      <td>48</td>\n",
       "      <td>34.0</td>\n",
       "    </tr>\n",
       "    <tr>\n",
       "      <th>17</th>\n",
       "      <td>Argentina</td>\n",
       "      <td>36</td>\n",
       "      <td>42.7</td>\n",
       "    </tr>\n",
       "    <tr>\n",
       "      <th>18</th>\n",
       "      <td>Greece</td>\n",
       "      <td>44</td>\n",
       "      <td>34.2</td>\n",
       "    </tr>\n",
       "    <tr>\n",
       "      <th>19</th>\n",
       "      <td>Thailand</td>\n",
       "      <td>35</td>\n",
       "      <td>39.4</td>\n",
       "    </tr>\n",
       "  </tbody>\n",
       "</table>\n",
       "</div>"
      ],
      "text/plain": [
       "          Country  Corruption_Index  Gini_Index\n",
       "0       Hong Kong                77        53.7\n",
       "1     South Korea                53        30.2\n",
       "2           China                40        46.2\n",
       "3           Italy                47        32.7\n",
       "4        Mongolia                38        36.5\n",
       "5         Austria                75        27.6\n",
       "6          Norway                85        23.5\n",
       "7              UK                81        31.6\n",
       "8          Canada                82        33.7\n",
       "9         Germany                81        30.7\n",
       "10         Sweden                88        25.4\n",
       "11        Denmark                90        27.5\n",
       "12         France                69        30.1\n",
       "13  United States                74        40.8\n",
       "14         Russia                29        40.1\n",
       "15       Portugal                62        34.2\n",
       "16        Romania                48        34.0\n",
       "17      Argentina                36        42.7\n",
       "18         Greece                44        34.2\n",
       "19       Thailand                35        39.4"
      ]
     },
     "execution_count": 5,
     "metadata": {},
     "output_type": "execute_result"
    }
   ],
   "source": [
    "df"
   ]
  },
  {
   "cell_type": "code",
   "execution_count": 9,
   "id": "3f51f8ad-6867-44b3-a19c-5dc4c7623f57",
   "metadata": {},
   "outputs": [],
   "source": [
    "df1=df.drop(columns=[\"Country\"])"
   ]
  },
  {
   "cell_type": "code",
   "execution_count": 11,
   "id": "e485f2ae-7ad9-47ad-a792-e433b4234224",
   "metadata": {},
   "outputs": [
    {
     "data": {
      "text/html": [
       "<div>\n",
       "<style scoped>\n",
       "    .dataframe tbody tr th:only-of-type {\n",
       "        vertical-align: middle;\n",
       "    }\n",
       "\n",
       "    .dataframe tbody tr th {\n",
       "        vertical-align: top;\n",
       "    }\n",
       "\n",
       "    .dataframe thead th {\n",
       "        text-align: right;\n",
       "    }\n",
       "</style>\n",
       "<table border=\"1\" class=\"dataframe\">\n",
       "  <thead>\n",
       "    <tr style=\"text-align: right;\">\n",
       "      <th></th>\n",
       "      <th>Corruption_Index</th>\n",
       "      <th>Gini_Index</th>\n",
       "    </tr>\n",
       "  </thead>\n",
       "  <tbody>\n",
       "    <tr>\n",
       "      <th>Corruption_Index</th>\n",
       "      <td>1.00000</td>\n",
       "      <td>-0.46391</td>\n",
       "    </tr>\n",
       "    <tr>\n",
       "      <th>Gini_Index</th>\n",
       "      <td>-0.46391</td>\n",
       "      <td>1.00000</td>\n",
       "    </tr>\n",
       "  </tbody>\n",
       "</table>\n",
       "</div>"
      ],
      "text/plain": [
       "                  Corruption_Index  Gini_Index\n",
       "Corruption_Index           1.00000    -0.46391\n",
       "Gini_Index                -0.46391     1.00000"
      ]
     },
     "execution_count": 11,
     "metadata": {},
     "output_type": "execute_result"
    }
   ],
   "source": [
    "df1.corr()"
   ]
  },
  {
   "cell_type": "code",
   "execution_count": 12,
   "id": "64b22eaf-b997-4eb3-a0b1-8d91bde7ea6f",
   "metadata": {},
   "outputs": [],
   "source": [
    "import statsmodels.api as sm"
   ]
  },
  {
   "cell_type": "code",
   "execution_count": 13,
   "id": "297aa574-10a5-4abe-a2fb-b46e0b32abed",
   "metadata": {},
   "outputs": [],
   "source": [
    "x=df[[\"Gini_Index\"]]"
   ]
  },
  {
   "cell_type": "code",
   "execution_count": 16,
   "id": "597c7c0c-81a9-488a-be8d-43d3e8f40292",
   "metadata": {},
   "outputs": [],
   "source": [
    "x1=sm.add_constant(x)"
   ]
  },
  {
   "cell_type": "code",
   "execution_count": 18,
   "id": "c664e16f-6b2c-43f0-9d86-a31d52082265",
   "metadata": {},
   "outputs": [],
   "source": [
    "y=df[[\"Corruption_Index\"]]"
   ]
  },
  {
   "cell_type": "code",
   "execution_count": 19,
   "id": "441ad1bf-28ef-4695-8734-a0feab9cf45e",
   "metadata": {},
   "outputs": [],
   "source": [
    "mod=sm.OLS(y,x1).fit()"
   ]
  },
  {
   "cell_type": "code",
   "execution_count": 22,
   "id": "9a24b2d4-7fb5-408a-8178-8cf745f4f5d5",
   "metadata": {},
   "outputs": [
    {
     "name": "stdout",
     "output_type": "stream",
     "text": [
      "                            OLS Regression Results                            \n",
      "==============================================================================\n",
      "Dep. Variable:       Corruption_Index   R-squared:                       0.215\n",
      "Model:                            OLS   Adj. R-squared:                  0.172\n",
      "Method:                 Least Squares   F-statistic:                     4.936\n",
      "Date:                Mon, 02 Dec 2024   Prob (F-statistic):             0.0394\n",
      "Time:                        18:24:51   Log-Likelihood:                -85.965\n",
      "No. Observations:                  20   AIC:                             175.9\n",
      "Df Residuals:                      18   BIC:                             177.9\n",
      "Df Model:                           1                                         \n",
      "Covariance Type:            nonrobust                                         \n",
      "==============================================================================\n",
      "                 coef    std err          t      P>|t|      [0.025      0.975]\n",
      "------------------------------------------------------------------------------\n",
      "const        106.6950     20.682      5.159      0.000      63.243     150.147\n",
      "Gini_Index    -1.2952      0.583     -2.222      0.039      -2.520      -0.070\n",
      "==============================================================================\n",
      "Omnibus:                        1.213   Durbin-Watson:                   1.192\n",
      "Prob(Omnibus):                  0.545   Jarque-Bera (JB):                1.005\n",
      "Skew:                           0.333   Prob(JB):                        0.605\n",
      "Kurtosis:                       2.127   Cond. No.                         175.\n",
      "==============================================================================\n",
      "\n",
      "Notes:\n",
      "[1] Standard Errors assume that the covariance matrix of the errors is correctly specified.\n"
     ]
    }
   ],
   "source": [
    "print(mod.summary())"
   ]
  },
  {
   "cell_type": "code",
   "execution_count": 23,
   "id": "7c087227-78cf-45c6-82f4-6051a5e33aad",
   "metadata": {},
   "outputs": [],
   "source": [
    "#With every change in the gini index there is the decrease in the corruption index by 1.295"
   ]
  },
  {
   "cell_type": "code",
   "execution_count": null,
   "id": "fd5f6e0e-3059-4b2b-b0bc-f4313a76022c",
   "metadata": {},
   "outputs": [],
   "source": [
    "#There is the significant difference if alpha value is 0.1 as we will reject the null hypothesis"
   ]
  },
  {
   "cell_type": "code",
   "execution_count": 28,
   "id": "9f57abea-3a22-4fa6-9ff1-53ebd7ab4ff9",
   "metadata": {},
   "outputs": [
    {
     "data": {
      "text/plain": [
       "array([1.29519317])"
      ]
     },
     "execution_count": 28,
     "metadata": {},
     "output_type": "execute_result"
    }
   ],
   "source": [
    "mod.predict([1,2])-mod.predict([1,3])"
   ]
  },
  {
   "cell_type": "code",
   "execution_count": null,
   "id": "84fc1d5f-6b43-480d-ad04-c69e77954e20",
   "metadata": {},
   "outputs": [],
   "source": []
  }
 ],
 "metadata": {
  "kernelspec": {
   "display_name": "Python 3 (ipykernel)",
   "language": "python",
   "name": "python3"
  },
  "language_info": {
   "codemirror_mode": {
    "name": "ipython",
    "version": 3
   },
   "file_extension": ".py",
   "mimetype": "text/x-python",
   "name": "python",
   "nbconvert_exporter": "python",
   "pygments_lexer": "ipython3",
   "version": "3.12.1"
  }
 },
 "nbformat": 4,
 "nbformat_minor": 5
}
